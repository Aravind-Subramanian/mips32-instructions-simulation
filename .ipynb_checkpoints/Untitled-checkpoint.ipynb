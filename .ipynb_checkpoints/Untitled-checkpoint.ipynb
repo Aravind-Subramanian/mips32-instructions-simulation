{
 "cells": [
  {
   "cell_type": "code",
   "execution_count": 2,
   "id": "24d62c66",
   "metadata": {},
   "outputs": [],
   "source": [
    "#Reading the file\n",
    "BinaryInput =[]\n",
    "FileInput = open (\"sample.txt\" , \"r\")\n",
    "for x in FileInput:\n",
    "    BinaryInput.append(x)\n",
    "    \n"
   ]
  },
  {
   "cell_type": "code",
   "execution_count": 8,
   "id": "4429ea46",
   "metadata": {},
   "outputs": [
    {
     "data": {
      "text/plain": [
       "30"
      ]
     },
     "execution_count": 8,
     "metadata": {},
     "output_type": "execute_result"
    }
   ],
   "source": [
    "len(BinaryInput)"
   ]
  },
  {
   "cell_type": "code",
   "execution_count": 28,
   "id": "51c6f5c3",
   "metadata": {},
   "outputs": [],
   "source": [
    "#Declaring Global Variables\n",
    "i=260\n",
    "length= len(BinaryInput)\n",
    "for x in range (0,length):\n",
    "    Code[i] = BinaryInput[x][0:32]\n",
    "    i=i+4\n",
    "\n",
    "\n",
    "Cycle =1\n"
   ]
  },
  {
   "cell_type": "code",
   "execution_count": 29,
   "id": "9c8ab5d7",
   "metadata": {},
   "outputs": [],
   "source": [
    "#Reading the file\n",
    "BinaryInput =[]\n",
    "FileInput = open (\"sample.txt\" , \"r\")\n",
    "for x in FileInput:\n",
    "    BinaryInput.append(x)\n",
    "\n",
    "i = instruction_pointer = 260\n",
    "length= len(BinaryInput)\n",
    "code={}\n",
    "data = {}\n",
    "code_segment = 1\n",
    "for x in range (0,length):\n",
    "    if code_segment:\n",
    "        code[i] = BinaryInput[x][0:32]\n",
    "        i=i+4\n",
    "        if BinaryInput[x][0:6] == '000110':\n",
    "            code_segment = 0\n",
    "    else:        \n",
    "        data[i] = BinaryInput[x][0:32]\n",
    "        i=i+4\n",
    "\n",
    "\n",
    "registers = {\n",
    "    '00000' : 0 ,\n",
    "    '00001' : 0 ,\n",
    "    '00010' : 0 ,\n",
    "    '00011' : 0 ,\n",
    "    '00100' : 0 ,\n",
    "    '00101' : 0 ,\n",
    "    '00110' : 0 ,\n",
    "    '00111' : 0 ,\n",
    "    '01000' : 0 ,\n",
    "    '01001' : 0 ,\n",
    "    '01010' : 0 ,\n",
    "    '01011' : 0 ,\n",
    "    '01100' : 0 ,\n",
    "    '01101' : 0 ,\n",
    "    '01110' : 0 ,\n",
    "    '01111' : 0 ,\n",
    "    '10000' : 0 ,\n",
    "    '10001' : 0 ,\n",
    "    '10010' : 0 ,\n",
    "    '10011' : 0 ,\n",
    "    '10100' : 0 ,\n",
    "    '10101' : 0 ,\n",
    "    '10110' : 0 ,\n",
    "    '10111' : 0 ,\n",
    "    '11000' : 0 ,\n",
    "    '11001' : 0 ,\n",
    "    '11010' : 0 ,\n",
    "    '11011' : 0 ,\n",
    "    '11100' : 0 ,\n",
    "    '11110' : 0 ,\n",
    "    '11111' : 0\n",
    "    \n",
    "}\n",
    "\n",
    "subroutines = {}\n",
    "\n",
    "def J():\n",
    "    \n",
    "    print(\"running subroutine 1\")\n",
    "    \n",
    "def BEQ():\n",
    "    \n",
    "    print(\"running subroutine 2\") \n",
    "    \n",
    "def BNE():\n",
    "    \n",
    "    print(\"running subroutine 3\") \n",
    "    \n",
    "def BGTZ():\n",
    "    \n",
    "    print(\"running subroutine 4\") \n",
    "    \n",
    "def SW():\n",
    "    \n",
    "    print(\"running subroutine 5\") \n",
    "    \n",
    "def LW():\n",
    "    \n",
    "    print(\"running subroutine 2\") \n",
    "    \n",
    "def Break():\n",
    "    \n",
    "    print(\"running subroutine 6\") \n",
    "\n",
    "def Add():\n",
    "    \n",
    "    print(\"running subroutine 7\") \n",
    "    \n",
    "def Sub():\n",
    "    \n",
    "    print(\"running subroutine 8\") \n",
    "    \n",
    "def AND():\n",
    "    \n",
    "    print(\"running subroutine 9\") \n",
    "\n",
    "def OR():\n",
    "    \n",
    "    print(\"running subroutine 10\") \n",
    "    \n",
    "def SRL():\n",
    "    \n",
    "    print(\"running subroutine 11\") \n",
    "    \n",
    "def SRA():\n",
    "    \n",
    "    print(\"running subroutine 12\") \n",
    "\n",
    "def MUL():\n",
    "    \n",
    "    print(\"running subroutine 13\") \n",
    "    \n",
    "def ADDI():\n",
    "    \n",
    "    print(\"running subroutine 14\") \n",
    "    \n",
    "def ANDI():\n",
    "    \n",
    "    print(\"running subroutine 15\") \n",
    "\n",
    "def ORI():\n",
    "    \n",
    "    print(\"running subroutine 16\") \n",
    "\n",
    "subroutines = {\n",
    "    \n",
    "    '000000': J, \n",
    "    '000001': BEQ, \n",
    "    '000010': BNE, \n",
    "    '000011': BGTZ, \n",
    "    '000100': SW, \n",
    "    '000101': LW, \n",
    "    '000110': 'Break',\n",
    "    '001000': Add,\n",
    "    '001001': Sub,\n",
    "    '001010': AND,\n",
    "    '001011': OR,\n",
    "    '001100': SRL,\n",
    "    '001101': SRA,\n",
    "    '001100': MUL,\n",
    "    '010000': ADDI,\n",
    "    '010001': ANDI,\n",
    "    '010010': ORI    \n",
    "}"
   ]
  },
  {
   "cell_type": "code",
   "execution_count": 31,
   "id": "787b7d74",
   "metadata": {},
   "outputs": [
    {
     "data": {
      "text/plain": [
       "{260: '00100000001000000000000000000000',\n",
       " 264: '00100000110000000000000000000000',\n",
       " 268: '01000000010000000000000000000011',\n",
       " 272: '00000100001000100000000000001001',\n",
       " 276: '00010100110000110000000100111100',\n",
       " 280: '00010100110001000000000101001100',\n",
       " 284: '00111000101000110010000000000000',\n",
       " 288: '00001100101000000000000000000001',\n",
       " 292: '01000000101001010000000000001100',\n",
       " 296: '00010000110001010000000101011100',\n",
       " 300: '01000000001000010000000000000001',\n",
       " 304: '01000000110001100000000000000100',\n",
       " 308: '00000000000000000000000001000100',\n",
       " 312: '00011000000000000000000000000000'}"
      ]
     },
     "execution_count": 31,
     "metadata": {},
     "output_type": "execute_result"
    }
   ],
   "source": [
    "code"
   ]
  },
  {
   "cell_type": "code",
   "execution_count": 19,
   "id": "c7490e54",
   "metadata": {},
   "outputs": [
    {
     "name": "stdout",
     "output_type": "stream",
     "text": [
      "running subroutine 1\n",
      "running subroutine 1\n",
      "running subroutine 2\n"
     ]
    },
    {
     "ename": "KeyError",
     "evalue": "'000001'",
     "output_type": "error",
     "traceback": [
      "\u001b[1;31m---------------------------------------------------------------------------\u001b[0m",
      "\u001b[1;31mKeyError\u001b[0m                                  Traceback (most recent call last)",
      "\u001b[1;32m<ipython-input-19-3e6714763cbe>\u001b[0m in \u001b[0;36m<module>\u001b[1;34m\u001b[0m\n\u001b[0;32m      3\u001b[0m     \u001b[0minstruction\u001b[0m \u001b[1;33m=\u001b[0m \u001b[0mcode\u001b[0m\u001b[1;33m[\u001b[0m\u001b[0minstruction_pointer\u001b[0m\u001b[1;33m]\u001b[0m\u001b[1;33m\u001b[0m\u001b[1;33m\u001b[0m\u001b[0m\n\u001b[0;32m      4\u001b[0m     \u001b[0msubroutine_code\u001b[0m \u001b[1;33m=\u001b[0m \u001b[0minstruction\u001b[0m\u001b[1;33m[\u001b[0m\u001b[1;36m0\u001b[0m\u001b[1;33m:\u001b[0m\u001b[1;36m6\u001b[0m\u001b[1;33m]\u001b[0m\u001b[1;33m\u001b[0m\u001b[1;33m\u001b[0m\u001b[0m\n\u001b[1;32m----> 5\u001b[1;33m     \u001b[0msubroutine_to_call\u001b[0m \u001b[1;33m=\u001b[0m \u001b[0msubroutines\u001b[0m\u001b[1;33m[\u001b[0m\u001b[0msubroutine_code\u001b[0m\u001b[1;33m]\u001b[0m\u001b[1;33m\u001b[0m\u001b[1;33m\u001b[0m\u001b[0m\n\u001b[0m\u001b[0;32m      6\u001b[0m     \u001b[1;32mif\u001b[0m \u001b[0msubroutine_to_call\u001b[0m \u001b[1;33m==\u001b[0m \u001b[1;34m'Break'\u001b[0m\u001b[1;33m:\u001b[0m\u001b[1;33m\u001b[0m\u001b[1;33m\u001b[0m\u001b[0m\n\u001b[0;32m      7\u001b[0m         \u001b[1;32mbreak\u001b[0m\u001b[1;33m\u001b[0m\u001b[1;33m\u001b[0m\u001b[0m\n",
      "\u001b[1;31mKeyError\u001b[0m: '000001'"
     ]
    }
   ],
   "source": [
    "while(1):\n",
    "    \n",
    "    instruction = code[instruction_pointer]    \n",
    "    subroutine_code = instruction[0:6]\n",
    "    subroutine_to_call = subroutines[subroutine_code]\n",
    "    if subroutine_to_call == 'Break':\n",
    "        break    \n",
    "    instruction_pointer += 4\n",
    "    subroutine_to_call()\n",
    "    \n",
    "    \n",
    "    \n",
    "    "
   ]
  },
  {
   "cell_type": "code",
   "execution_count": null,
   "id": "ebb8bb7f",
   "metadata": {},
   "outputs": [],
   "source": [
    "for ()"
   ]
  }
 ],
 "metadata": {
  "kernelspec": {
   "display_name": "Python 3",
   "language": "python",
   "name": "python3"
  },
  "language_info": {
   "codemirror_mode": {
    "name": "ipython",
    "version": 3
   },
   "file_extension": ".py",
   "mimetype": "text/x-python",
   "name": "python",
   "nbconvert_exporter": "python",
   "pygments_lexer": "ipython3",
   "version": "3.8.8"
  }
 },
 "nbformat": 4,
 "nbformat_minor": 5
}
